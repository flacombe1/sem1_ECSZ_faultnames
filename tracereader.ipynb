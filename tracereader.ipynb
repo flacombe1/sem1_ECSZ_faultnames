{
 "cells": [
  {
   "cell_type": "code",
   "execution_count": 5,
   "metadata": {
    "id": "9WMB_PWlxZtf"
   },
   "outputs": [],
   "source": [
    "# Load modules\n",
    "import os\n",
    "import pandas as pd\n",
    "import re\n",
    "import ast\n",
    "import glob\n",
    "from pathlib import Path\n",
    "\n",
    "path = \"C:/Users/19049/coding_files/data/CFM5.3_traces.ts\"\n",
    "subset = \"C:/Users/19049/coding_files/data/subset.ts\"\n",
    "folder = \"C:/Users/19049/coding_files/faults/\"\n",
    "\n",
    "to_open = subset\n",
    "\n",
    "#currently the path is saevd as a .ts file, it'd be nice to have a conversion automatically from utm"
   ]
  },
  {
   "cell_type": "code",
   "execution_count": 6,
   "metadata": {
    "id": "vY9atfWm9hc7"
   },
   "outputs": [],
   "source": [
    "#I did not write this https://stackoverflow.com/questions/185936/how-to-delete-the-contents-of-a-folder\n",
    "#Just a tool to clear the faults folder- but could be useful later when reading in new data\n",
    "def Delete_faults_content():\n",
    "    [f.unlink() for f in Path(\"C:/Users/19049/coding_files/faults\").glob(\"*\") if f.is_file()]\n",
    "Delete_faults_content()"
   ]
  },
  {
   "cell_type": "code",
   "execution_count": 7,
   "metadata": {
    "id": "vF1dDxdX_CYk"
   },
   "outputs": [],
   "source": [
    "# @title\n",
    "#what i've got:\n",
    "#strip the crap from the fault name line (the tag and excess quotes, can expand to more stuff)\n",
    "#open a fault folder to stick the coords in\n",
    "\n",
    "#What i want:\n",
    "#how tf do I put the coords into the new files now- I think I can use the current name and use the make_new_fault as a ticker, so the \"put number in folder\" function is dumb and every time it sees\n",
    "#a coord it will just add it to the fault that is currently \"name\" and that should change since the for loop goes down the list in order\n",
    "#it'd be nice to get a counter as a discrepancy check\n",
    "\n",
    "#strips \"> \" and extra \"\" from line and sets it to global name\n",
    "def redefine_name():\n",
    "    global name\n",
    "    t1_name = line\n",
    "    t2_name = re.sub(\"[> ]\", \"\", t1_name)\n",
    "    name = ast.literal_eval(t2_name)\n",
    "\n",
    "#makes an empty pandas dataframe using the empty list l\n",
    "def make_new_fault():\n",
    "    global l1\n",
    "    l1 = pd.DataFrame(l,columns = ['Easting(m)','Northing(m)','Elevation(m)'])\n",
    "\n",
    "#the line being read is delimited and turned from a line of strings into a line of floats\n",
    "#then it is apended to the l1 dataframe\n",
    "def number_line():\n",
    "    string_line = line.split()\n",
    "    float_list = list(map(float, string_line))\n",
    "    l1.loc[len(l1)] = float_list\n",
    "\n",
    "#takes the finished l1 dataframe and names it the current fault trace, making it a csv    \n",
    "def save_line():\n",
    "    l1.to_csv(folder+name+\".csv\")\n"
   ]
  },
  {
   "cell_type": "code",
   "execution_count": 8,
   "metadata": {
    "colab": {
     "base_uri": "https://localhost:8080/"
    },
    "id": "pzVFOJOaRoAS",
    "outputId": "fe2d5c10-1add-4f0c-bfc8-8abcc44a8c40"
   },
   "outputs": [],
   "source": [
    "#l being here resets the dataframe every time it's run, though I can probably just define make_new_fault pd.dataframe([],columns....) instead of making l=[]\n",
    "l = []\n",
    "with open(to_open, encoding='utf-8') as f:\n",
    "    for line in f:\n",
    "        if line.startswith(\"> \"):\n",
    "            is_number = False\n",
    "            redefine_name()\n",
    "            make_new_fault()\n",
    "        elif line.startswith(\"#\"):\n",
    "            print(\"doin nothing\")\n",
    "        else:\n",
    "            is_number = True\n",
    "            while is_number == True:\n",
    "                if not line.startswith(\"> \"):\n",
    "                    number_line()\n",
    "                break\n",
    "            save_line()"
   ]
  },
  {
   "cell_type": "code",
   "execution_count": null,
   "metadata": {},
   "outputs": [],
   "source": [
    "#I suppose next we list out the faults we want in a variable or tuple, and we go through the files in fault folder, and whenever the name satisfies the condition\n",
    "#we do a thing, like open the file, adjust the origin, then save as another adjusted file in a different folder"
   ]
  },
  {
   "cell_type": "code",
   "execution_count": 9,
   "metadata": {
    "tags": []
   },
   "outputs": [
    {
     "name": "stdout",
     "output_type": "stream",
     "text": [
      "Ash_Hill\n"
     ]
    }
   ],
   "source": [
    "want = ['Panamint_Valley','Southern_Death_Valley','Black_Mountain','Owl_Lake','Hunter_Mountain','Ash_Hill','Independence_Sierra_Nevada','Independence','Little_Lake','Airport_Lake','Eastern_Little_Lake_north_north_east_cross','Owens_Valley','Northern_Death_Valley']\n",
    "print(want[5])"
   ]
  },
  {
   "cell_type": "code",
   "execution_count": 10,
   "metadata": {
    "tags": []
   },
   "outputs": [
    {
     "data": {
      "text/plain": [
       "['.ipynb_checkpoints',\n",
       " 'BNRA-BMFZ-MULT-Black_Mountain_fault-CFM3.csv',\n",
       " 'BNRA-NDVZ-MULT-Northern_Death_Valley_fault-CFM2.csv',\n",
       " 'BNRA-SDVZ-MULT-Southern_Death_Valley_fault_vertical-CFM3.csv']"
      ]
     },
     "execution_count": 10,
     "metadata": {},
     "output_type": "execute_result"
    }
   ],
   "source": [
    "names = os.listdir(r\"C:\\Users\\19049\\coding_files\\faults\")\n",
    "names"
   ]
  },
  {
   "cell_type": "code",
   "execution_count": null,
   "metadata": {},
   "outputs": [],
   "source": [
    "#def check_name(thing):\n",
    "    "
   ]
  },
  {
   "cell_type": "code",
   "execution_count": 14,
   "metadata": {
    "tags": []
   },
   "outputs": [
    {
     "ename": "TypeError",
     "evalue": "argument of type 'bool' is not iterable",
     "output_type": "error",
     "traceback": [
      "\u001b[1;31m---------------------------------------------------------------------------\u001b[0m",
      "\u001b[1;31mTypeError\u001b[0m                                 Traceback (most recent call last)",
      "Cell \u001b[1;32mIn[14], line 2\u001b[0m\n\u001b[0;32m      1\u001b[0m \u001b[38;5;28;01mfor\u001b[39;00m each_fault \u001b[38;5;129;01min\u001b[39;00m want:\n\u001b[1;32m----> 2\u001b[0m     \u001b[38;5;28;01mif\u001b[39;00m each_fault \u001b[38;5;129;01min\u001b[39;00m names\u001b[38;5;241m.\u001b[39m\u001b[38;5;21m__contains__\u001b[39m(want[:]):\n\u001b[0;32m      3\u001b[0m         \u001b[38;5;28mprint\u001b[39m(\u001b[38;5;124m'\u001b[39m\u001b[38;5;124myes\u001b[39m\u001b[38;5;124m'\u001b[39m)\n\u001b[0;32m      4\u001b[0m     \u001b[38;5;28;01melse\u001b[39;00m:\n",
      "\u001b[1;31mTypeError\u001b[0m: argument of type 'bool' is not iterable"
     ]
    }
   ],
   "source": [
    "for each_fault in want:\n",
    "    if each_fault in names.__contains__(want[:]):\n",
    "        print('yes')\n",
    "    else:\n",
    "        print('no')\n",
    "    print(each_fault)"
   ]
  },
  {
   "cell_type": "code",
   "execution_count": 34,
   "metadata": {
    "tags": []
   },
   "outputs": [
    {
     "data": {
      "text/plain": [
       "['C:\\\\Users\\\\19049\\\\coding_files\\\\faults\\\\BNRA-BMFZ-MULT-Black_Mountain_fault-CFM3.csv',\n",
       " 'C:\\\\Users\\\\19049\\\\coding_files\\\\faults\\\\BNRA-NDVZ-MULT-Northern_Death_Valley_fault-CFM2.csv',\n",
       " 'C:\\\\Users\\\\19049\\\\coding_files\\\\faults\\\\BNRA-SDVZ-MULT-Southern_Death_Valley_fault_vertical-CFM3.csv']"
      ]
     },
     "execution_count": 34,
     "metadata": {},
     "output_type": "execute_result"
    }
   ],
   "source": [
    "glob.glob(r\"C:\\Users\\19049\\coding_files\\faults\\*\")"
   ]
  },
  {
   "cell_type": "code",
   "execution_count": 36,
   "metadata": {
    "tags": []
   },
   "outputs": [
    {
     "name": "stdout",
     "output_type": "stream",
     "text": [
      "C:\\Users\\19049\\coding_files\\faults\\.ipynb_checkpoints\n",
      "C:\\Users\\19049\\coding_files\\faults\\BNRA-BMFZ-MULT-Black_Mountain_fault-CFM3.csv\n",
      "C:\\Users\\19049\\coding_files\\faults\\BNRA-NDVZ-MULT-Northern_Death_Valley_fault-CFM2.csv\n",
      "C:\\Users\\19049\\coding_files\\faults\\BNRA-SDVZ-MULT-Southern_Death_Valley_fault_vertical-CFM3.csv\n"
     ]
    }
   ],
   "source": [
    "print(*Path(r\"C:\\Users\\19049\\coding_files\\faults\").iterdir(), sep=\"\\n\")"
   ]
  },
  {
   "cell_type": "code",
   "execution_count": 40,
   "metadata": {
    "tags": []
   },
   "outputs": [
    {
     "name": "stdout",
     "output_type": "stream",
     "text": [
      "..\\coding_files\\faults\\.ipynb_checkpoints\n",
      "..\\coding_files\\faults\\BNRA-BMFZ-MULT-Black_Mountain_fault-CFM3.csv\n",
      "..\\coding_files\\faults\\BNRA-NDVZ-MULT-Northern_Death_Valley_fault-CFM2.csv\n",
      "..\\coding_files\\faults\\BNRA-SDVZ-MULT-Southern_Death_Valley_fault_vertical-CFM3.csv\n"
     ]
    }
   ],
   "source": [
    "for path in Path(r'../coding_files/faults').iterdir():\n",
    "    print(path)"
   ]
  },
  {
   "cell_type": "code",
   "execution_count": 48,
   "metadata": {
    "tags": []
   },
   "outputs": [
    {
     "name": "stdout",
     "output_type": "stream",
     "text": [
      "[WindowsPath('../coding_files/faults/.ipynb_checkpoints'), WindowsPath('../coding_files/faults/BNRA-BMFZ-MULT-Black_Mountain_fault-CFM3.csv'), WindowsPath('../coding_files/faults/BNRA-NDVZ-MULT-Northern_Death_Valley_fault-CFM2.csv'), WindowsPath('../coding_files/faults/BNRA-SDVZ-MULT-Southern_Death_Valley_fault_vertical-CFM3.csv')]\n"
     ]
    }
   ],
   "source": [
    "contents = list(Path(r'../coding_files/faults').iterdir())\n",
    "print(contents, sep=\"\\n\")"
   ]
  },
  {
   "cell_type": "code",
   "execution_count": null,
   "metadata": {},
   "outputs": [],
   "source": []
  }
 ],
 "metadata": {
  "colab": {
   "provenance": []
  },
  "kernelspec": {
   "display_name": "Python 3 (ipykernel)",
   "language": "python",
   "name": "python3"
  },
  "language_info": {
   "codemirror_mode": {
    "name": "ipython",
    "version": 3
   },
   "file_extension": ".py",
   "mimetype": "text/x-python",
   "name": "python",
   "nbconvert_exporter": "python",
   "pygments_lexer": "ipython3",
   "version": "3.11.3"
  }
 },
 "nbformat": 4,
 "nbformat_minor": 4
}
