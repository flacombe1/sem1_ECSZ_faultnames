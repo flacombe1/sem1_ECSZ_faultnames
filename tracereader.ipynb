{
 "cells": [
  {
   "cell_type": "code",
   "execution_count": 41,
   "metadata": {
    "id": "9WMB_PWlxZtf"
   },
   "outputs": [],
   "source": [
    "# Load modules\n",
    "import os\n",
    "import pandas as pd\n",
    "import re\n",
    "import ast\n",
    "import glob\n",
    "from pathlib import Path\n",
    "\n",
    "path = \"C:/Users/19049/coding_files/data/CFM5.3_traces.ts\"\n",
    "subset = \"C:/Users/19049/coding_files/data/subset.ts\"\n",
    "folder = \"C:/Users/19049/coding_files/faults/\"\n",
    "\n",
    "to_open = path\n",
    "\n",
    "#currently the path is saevd as a .ts file, it'd be nice to have a conversion automatically from utm"
   ]
  },
  {
   "cell_type": "code",
   "execution_count": 42,
   "metadata": {
    "id": "vY9atfWm9hc7"
   },
   "outputs": [],
   "source": [
    "#I did not write this https://stackoverflow.com/questions/185936/how-to-delete-the-contents-of-a-folder\n",
    "#Just a tool to clear the faults folder- but could be useful later when reading in new data\n",
    "def Delete_faults_content():\n",
    "    [f.unlink() for f in Path(\"C:/Users/19049/coding_files/faults\").glob(\"*\") if f.is_file()]\n",
    "Delete_faults_content()"
   ]
  },
  {
   "cell_type": "code",
   "execution_count": 43,
   "metadata": {
    "id": "vF1dDxdX_CYk"
   },
   "outputs": [],
   "source": [
    "# @title\n",
    "#what i've got:\n",
    "#strip the crap from the fault name line (the tag and excess quotes, can expand to more stuff)\n",
    "#open a fault folder to stick the coords in\n",
    "\n",
    "#What i want:\n",
    "#how tf do I put the coords into the new files now- I think I can use the current name and use the make_new_fault as a ticker, so the \"put number in folder\" function is dumb and every time it sees\n",
    "#a coord it will just add it to the fault that is currently \"name\" and that should change since the for loop goes down the list in order\n",
    "#it'd be nice to get a counter as a discrepancy check\n",
    "\n",
    "#strips \"> \" and extra \"\" from line and sets it to global name\n",
    "def redefine_name():\n",
    "    global name\n",
    "    t1_name = line\n",
    "    t2_name = re.sub(\"[> ]\", \"\", t1_name)\n",
    "    name = ast.literal_eval(t2_name)\n",
    "\n",
    "#makes an empty pandas dataframe using the empty list l\n",
    "def make_new_fault():\n",
    "    global l1\n",
    "    l1 = pd.DataFrame(l,columns = ['Easting(m)','Northing(m)','Elevation(m)'])\n",
    "\n",
    "#the line being read is delimited and turned from a line of strings into a line of floats\n",
    "#then it is apended to the l1 dataframe\n",
    "def number_line():\n",
    "    string_line = line.split()\n",
    "    float_list = list(map(float, string_line))\n",
    "    l1.loc[len(l1)] = float_list\n",
    "\n",
    "#takes the finished l1 dataframe and names it the current fault trace, making it a csv    \n",
    "def save_line():\n",
    "    l1.to_csv(folder+name+\".csv\")\n"
   ]
  },
  {
   "cell_type": "code",
   "execution_count": 54,
   "metadata": {
    "colab": {
     "base_uri": "https://localhost:8080/"
    },
    "id": "pzVFOJOaRoAS",
    "outputId": "fe2d5c10-1add-4f0c-bfc8-8abcc44a8c40"
   },
   "outputs": [
    {
     "name": "stdout",
     "output_type": "stream",
     "text": [
      "doin nothing\n",
      "doin nothing\n",
      "doin nothing\n",
      "doin nothing\n",
      "doin nothing\n",
      "doin nothing\n",
      "doin nothing\n",
      "doin nothing\n",
      "doin nothing\n",
      "doin nothing\n",
      "doin nothing\n",
      "doin nothing\n",
      "doin nothing\n",
      "doin nothing\n"
     ]
    }
   ],
   "source": [
    "#l being here resets the dataframe every time it's run, though I can probably just define make_new_fault pd.dataframe([],columns....) instead of making l=[]\n",
    "l = []\n",
    "with open(to_open, encoding='utf-8') as f:\n",
    "    for line in f:\n",
    "        if line.startswith(\"> \"):\n",
    "            is_number = False\n",
    "            redefine_name()\n",
    "            make_new_fault()\n",
    "        elif line.startswith(\"#\"):\n",
    "            print(\"doin nothing\")\n",
    "        else:\n",
    "            is_number = True\n",
    "            while is_number == True:\n",
    "                if not line.startswith(\"> \"):\n",
    "                    number_line()\n",
    "                break\n",
    "            save_line()\n",
    "names = os.listdir(r\"C:\\Users\\19049\\coding_files\\faults\")"
   ]
  },
  {
   "cell_type": "code",
   "execution_count": null,
   "metadata": {},
   "outputs": [],
   "source": [
    "#I suppose next we list out the faults we want in a variable or tuple, and we go through the files in fault folder, and whenever the name satisfies the condition\n",
    "#we do a thing, like open the file, adjust the origin, then save as another adjusted file in a different folder"
   ]
  },
  {
   "cell_type": "code",
   "execution_count": 60,
   "metadata": {
    "tags": []
   },
   "outputs": [],
   "source": [
    "#13 faults\n",
    "want = [\n",
    "    'Panamint_Valley_fault',\n",
    "    'Southern_Death_Valley_fault',\n",
    "    'Black_Mountain_fault',\n",
    "    'Owl_Lake_fault',\n",
    "    'Hunter_Mountain_fault',\n",
    "    'Ash_Hill_fault',\n",
    "    'Independence_Sierra_Nevada_fault',\n",
    "    'Independence_fault',\n",
    "    'Little_Lake_fault',\n",
    "    'Airport_Lake_fault',\n",
    "    'Eastern_Little_Lake_north_north_east_cross_fault',\n",
    "    'Owens_Valley_fault',\n",
    "    'Northern_Death_Valley_fault'\n",
    "    ]"
   ]
  },
  {
   "cell_type": "code",
   "execution_count": 61,
   "metadata": {},
   "outputs": [
    {
     "name": "stdout",
     "output_type": "stream",
     "text": [
      "yes\n",
      "yes\n",
      "yes\n",
      "yes\n",
      "yes\n",
      "yes\n",
      "yes\n",
      "yes\n",
      "yes\n",
      "yes\n",
      "yes\n",
      "yes\n",
      "yes\n"
     ]
    }
   ],
   "source": [
    "for fault in names:\n",
    "    for short in want:\n",
    "        if short in fault:\n",
    "            print(\"yes\")\n",
    "        else:\n",
    "            pass\n"
   ]
  },
  {
   "cell_type": "code",
   "execution_count": null,
   "metadata": {},
   "outputs": [],
   "source": []
  }
 ],
 "metadata": {
  "colab": {
   "provenance": []
  },
  "kernelspec": {
   "display_name": "Python 3 (ipykernel)",
   "language": "python",
   "name": "python3"
  },
  "language_info": {
   "codemirror_mode": {
    "name": "ipython",
    "version": 3
   },
   "file_extension": ".py",
   "mimetype": "text/x-python",
   "name": "python",
   "nbconvert_exporter": "python",
   "pygments_lexer": "ipython3",
   "version": "3.11.3"
  }
 },
 "nbformat": 4,
 "nbformat_minor": 4
}
