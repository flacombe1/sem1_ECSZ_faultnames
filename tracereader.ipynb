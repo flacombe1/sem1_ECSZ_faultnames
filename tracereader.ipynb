{
 "cells": [
  {
   "cell_type": "code",
   "execution_count": 162,
   "metadata": {
    "id": "9WMB_PWlxZtf"
   },
   "outputs": [],
   "source": [
    "# Load modules\n",
    "import os\n",
    "import pandas as pd\n",
    "import re\n",
    "import ast\n",
    "import glob\n",
    "from pathlib import Path\n",
    "import shutil\n",
    "\n",
    "path = \"C:/Users/19049/coding_files/data/CFM5.3_traces.ts\"\n",
    "subset = \"C:/Users/19049/coding_files/data/subset.ts\"\n",
    "folder = \"C:/Users/19049/coding_files/faults/\"\n",
    "wb_2b = \"C:/Users/19049/coding_files/wb_2b/\"\n",
    "\n",
    "to_open = path\n",
    "\n",
    "#currently the path is saevd as a .ts file, it'd be nice to have a conversion automatically from utm"
   ]
  },
  {
   "cell_type": "code",
   "execution_count": 163,
   "metadata": {
    "id": "vY9atfWm9hc7"
   },
   "outputs": [],
   "source": [
    "#I did not write this https://stackoverflow.com/questions/185936/how-to-delete-the-contents-of-a-folder\n",
    "#Just a tool to clear the faults folder- but could be useful later when reading in new data\n",
    "def Delete_faults_content():\n",
    "    [f.unlink() for f in Path(\"C:/Users/19049/coding_files/faults\").glob(\"*\") if f.is_file()]\n",
    "Delete_faults_content()\n",
    "def Delete_wb_2b_content():\n",
    "    [f.unlink() for f in Path(\"C:/Users/19049/coding_files/wb_2b\").glob(\"*\") if f.is_file()]\n",
    "Delete_wb_2b_content()"
   ]
  },
  {
   "cell_type": "code",
   "execution_count": 164,
   "metadata": {
    "id": "vF1dDxdX_CYk"
   },
   "outputs": [],
   "source": [
    "# @title\n",
    "#what i've got:\n",
    "#strip the crap from the fault name line (the tag and excess quotes, can expand to more stuff)\n",
    "#open a fault folder to stick the coords in\n",
    "\n",
    "#What i want:\n",
    "#how tf do I put the coords into the new files now- I think I can use the current name and use the make_new_fault as a ticker, so the \"put number in folder\" function is dumb and every time it sees\n",
    "#a coord it will just add it to the fault that is currently \"name\" and that should change since the for loop goes down the list in order\n",
    "#it'd be nice to get a counter as a discrepancy check\n",
    "\n",
    "#strips \"> \" and extra \"\" from line and sets it to global name\n",
    "def redefine_name():\n",
    "    global name\n",
    "    t1_name = line\n",
    "    t2_name = re.sub(\"[> ]\", \"\", t1_name)\n",
    "    name = ast.literal_eval(t2_name)\n",
    "\n",
    "#makes an empty pandas dataframe using the empty list l\n",
    "def make_new_fault():\n",
    "    global l1\n",
    "    l1 = pd.DataFrame(l,columns = ['Easting(m)','Northing(m)','Elevation(m)'])\n",
    "\n",
    "#the line being read is delimited and turned from a line of strings into a line of floats\n",
    "#then it is apended to the l1 dataframe\n",
    "def number_line():\n",
    "    string_line = line.split()\n",
    "    float_list = list(map(float, string_line))\n",
    "    l1.loc[len(l1)] = float_list\n",
    "\n",
    "#takes the finished l1 dataframe and names it the current fault trace, making it a csv    \n",
    "def save_line():\n",
    "    l1.to_csv(folder+name+\".csv\")\n",
    "    \n",
    "#what we want to do is move the current fault in names, to a folder by providing the current path and the path to the folder\n",
    "def move():\n",
    "    shutil.move(folder+fault, wb_2b+fault)"
   ]
  },
  {
   "cell_type": "code",
   "execution_count": 165,
   "metadata": {
    "colab": {
     "base_uri": "https://localhost:8080/"
    },
    "id": "pzVFOJOaRoAS",
    "outputId": "fe2d5c10-1add-4f0c-bfc8-8abcc44a8c40"
   },
   "outputs": [],
   "source": [
    "#l being here resets the dataframe every time it's run, though I can probably just define make_new_fault pd.dataframe([],columns....) instead of making l=[]\n",
    "l = []\n",
    "with open(to_open, encoding='utf-8') as f:\n",
    "    for line in f:\n",
    "        if line.startswith(\"> \"):\n",
    "            is_number = False\n",
    "            redefine_name()\n",
    "            make_new_fault()\n",
    "        elif line.startswith(\"#\"):\n",
    "            pass\n",
    "        else:\n",
    "            is_number = True\n",
    "            while is_number == True:\n",
    "                if not line.startswith(\"> \"):\n",
    "                    number_line()\n",
    "                break\n",
    "            save_line()"
   ]
  },
  {
   "cell_type": "code",
   "execution_count": 166,
   "metadata": {
    "tags": []
   },
   "outputs": [],
   "source": [
    "#13 faults that are included in the project that we want to make worlbuilder files of\n",
    "# format: '*_fault',\\n\n",
    "want = [\n",
    "    'Panamint_Valley_fault',\n",
    "    'Southern_Death_Valley_fault',\n",
    "    'Black_Mountain_fault',\n",
    "    'Owl_Lake_fault',\n",
    "    'Hunter_Mountain_fault',\n",
    "    'Ash_Hill_fault',\n",
    "    'Independence_Sierra_Nevada_fault', #Gotta add the _fault identification bit cause of\n",
    "    'Independence_fault',               #these two lines\n",
    "    'Little_Lake_fault',\n",
    "    'Airport_Lake_fault',\n",
    "    'Eastern_Little_Lake_north_north_east_cross_fault',\n",
    "    'Owens_Valley_fault',\n",
    "    'Northern_Death_Valley_fault'\n",
    "    ]"
   ]
  },
  {
   "cell_type": "code",
   "execution_count": 161,
   "metadata": {},
   "outputs": [],
   "source": [
    "#moves the files in the faults folder with the short names defined in want to the worldbuilder to be folder (wb_2b)\n",
    "#now when I say move, it deletes the file in the fault folder, so it's not there anymore and has to be remade\n",
    "fault_names = os.listdir(r\"C:\\Users\\19049\\coding_files\\faults\")\n",
    "for fault in fault_names:\n",
    "    for short in want:\n",
    "        if short in fault:\n",
    "            move()\n",
    "        else:\n",
    "            pass"
   ]
  },
  {
   "cell_type": "code",
   "execution_count": null,
   "metadata": {},
   "outputs": [],
   "source": [
    "#I\"m thinking that now we can identify the faults we want out of the pile, we put them into another folder, which we can then run indescriminate code on, which I suppose the purpose of that code\n",
    "#would be to convert the trace data to a worldbuilder file format? which I think daniel has."
   ]
  }
 ],
 "metadata": {
  "colab": {
   "provenance": []
  },
  "kernelspec": {
   "display_name": "Python 3 (ipykernel)",
   "language": "python",
   "name": "python3"
  },
  "language_info": {
   "codemirror_mode": {
    "name": "ipython",
    "version": 3
   },
   "file_extension": ".py",
   "mimetype": "text/x-python",
   "name": "python",
   "nbconvert_exporter": "python",
   "pygments_lexer": "ipython3",
   "version": "3.11.3"
  }
 },
 "nbformat": 4,
 "nbformat_minor": 4
}
